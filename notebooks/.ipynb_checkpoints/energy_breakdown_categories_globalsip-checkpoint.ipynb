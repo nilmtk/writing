{
 "cells": [
  {
   "cell_type": "code",
   "execution_count": 1,
   "metadata": {
    "collapsed": false
   },
   "outputs": [],
   "source": [
    "import matplotlib.pyplot as plt\n",
    "#import seaborn as sns\n",
    "#plt.style.use('ggplot')\n",
    "%matplotlib inline\n",
    "from nilmtk import DataSet\n",
    "import nilmtk\n",
    "import warnings\n",
    "import pandas as pd\n",
    "import numpy as np\n",
    "import sys\n",
    "warnings.filterwarnings(\"ignore\")"
   ]
  },
  {
   "cell_type": "code",
   "execution_count": 2,
   "metadata": {
    "collapsed": false
   },
   "outputs": [],
   "source": [
    "ds = DataSet(\"/Users/nipunbatra/Downloads/2months_100homes.hdf5\")"
   ]
  },
  {
   "cell_type": "code",
   "execution_count": 3,
   "metadata": {
    "collapsed": false
   },
   "outputs": [
    {
     "name": "stdout",
     "output_type": "stream",
     "text": [
      " 100.0% done"
     ]
    }
   ],
   "source": [
    "num_appliances_per_home = {}\n",
    "seen = 0\n",
    "for building in ds.buildings:\n",
    "    seen+=1\n",
    "    sys.stdout.write(\"\\r \"+str(seen*100.0/100)+\"% done\")\n",
    "    sys.stdout.flush()\n",
    "    e = ds.buildings[building].elec\n",
    "    if e is not None:\n",
    "        num_appliances_per_home[building] = len(e.appliances)\n",
    "    else:\n",
    "        print building"
   ]
  },
  {
   "cell_type": "code",
   "execution_count": 4,
   "metadata": {
    "collapsed": false
   },
   "outputs": [],
   "source": [
    "df_num_appliances = pd.DataFrame({\"num_appliances\":num_appliances_per_home})"
   ]
  },
  {
   "cell_type": "code",
   "execution_count": 5,
   "metadata": {
    "collapsed": false
   },
   "outputs": [
    {
     "data": {
      "text/html": [
       "<div style=\"max-height:1000px;max-width:1500px;overflow:auto;\">\n",
       "<table border=\"1\" class=\"dataframe\">\n",
       "  <thead>\n",
       "    <tr style=\"text-align: right;\">\n",
       "      <th></th>\n",
       "      <th>num_appliances</th>\n",
       "    </tr>\n",
       "  </thead>\n",
       "  <tbody>\n",
       "    <tr>\n",
       "      <th>4</th>\n",
       "      <td>0</td>\n",
       "    </tr>\n",
       "    <tr>\n",
       "      <th>24</th>\n",
       "      <td>0</td>\n",
       "    </tr>\n",
       "    <tr>\n",
       "      <th>33</th>\n",
       "      <td>0</td>\n",
       "    </tr>\n",
       "    <tr>\n",
       "      <th>37</th>\n",
       "      <td>0</td>\n",
       "    </tr>\n",
       "    <tr>\n",
       "      <th>38</th>\n",
       "      <td>0</td>\n",
       "    </tr>\n",
       "  </tbody>\n",
       "</table>\n",
       "</div>"
      ],
      "text/plain": [
       "    num_appliances\n",
       "4                0\n",
       "24               0\n",
       "33               0\n",
       "37               0\n",
       "38               0"
      ]
     },
     "execution_count": 5,
     "metadata": {},
     "output_type": "execute_result"
    }
   ],
   "source": [
    "zero_appliances = df_num_appliances[df_num_appliances[\"num_appliances\"]==0]\n",
    "zero_appliances.head()"
   ]
  },
  {
   "cell_type": "code",
   "execution_count": 7,
   "metadata": {
    "collapsed": false
   },
   "outputs": [
    {
     "data": {
      "text/plain": [
       "15"
      ]
     },
     "execution_count": 7,
     "metadata": {},
     "output_type": "execute_result"
    }
   ],
   "source": [
    "len(zero_appliances)"
   ]
  },
  {
   "cell_type": "code",
   "execution_count": 8,
   "metadata": {
    "collapsed": false
   },
   "outputs": [],
   "source": [
    "categories = set()\n",
    "appliance_types = set()\n",
    "for appliance in nilmtk.global_meter_group.appliances:\n",
    "    categories.update(appliance.categories())\n",
    "    appliance_types.add(appliance.type['type'])"
   ]
  },
  {
   "cell_type": "code",
   "execution_count": 9,
   "metadata": {
    "collapsed": false
   },
   "outputs": [
    {
     "data": {
      "text/plain": [
       "{'air conditioner',\n",
       " 'appliance',\n",
       " 'dish washer',\n",
       " 'electric furnace',\n",
       " 'electric hot tub heater',\n",
       " 'electric space heater',\n",
       " 'electric swimming pool heater',\n",
       " 'electric vehicle',\n",
       " 'electric water heating appliance',\n",
       " 'freezer',\n",
       " 'fridge',\n",
       " 'light',\n",
       " 'microwave',\n",
       " 'oven',\n",
       " 'security alarm',\n",
       " 'sockets',\n",
       " 'spin dryer',\n",
       " 'stove',\n",
       " 'unknown',\n",
       " 'washer dryer',\n",
       " 'washing machine',\n",
       " 'waste disposal unit'}"
      ]
     },
     "execution_count": 9,
     "metadata": {},
     "output_type": "execute_result"
    }
   ],
   "source": [
    "appliance_types"
   ]
  },
  {
   "cell_type": "code",
   "execution_count": 229,
   "metadata": {
    "collapsed": false
   },
   "outputs": [
    {
     "data": {
      "text/plain": [
       "['stove',\n",
       " 'electric vehicle',\n",
       " 'oven',\n",
       " 'sockets',\n",
       " 'microwave',\n",
       " 'electric space heater',\n",
       " 'unknown',\n",
       " 'security alarm',\n",
       " 'freezer',\n",
       " 'electric furnace',\n",
       " 'dish washer',\n",
       " 'electric hot tub heater',\n",
       " 'electric water heating appliance',\n",
       " 'fridge',\n",
       " 'waste disposal unit',\n",
       " 'washer dryer',\n",
       " 'electric swimming pool heater',\n",
       " 'light',\n",
       " 'washing machine',\n",
       " 'appliance',\n",
       " 'spin dryer',\n",
       " 'air conditioner']"
      ]
     },
     "execution_count": 229,
     "metadata": {},
     "output_type": "execute_result"
    }
   ],
   "source": [
    "ALL_APPLIANCES = list(appliance_types)\n",
    "ALL_APPLIANCES"
   ]
  },
  {
   "cell_type": "code",
   "execution_count": null,
   "metadata": {
    "collapsed": false
   },
   "outputs": [],
   "source": [
    "out = {}\n",
    "for building in ds.buildings:\n",
    "#for building in [1]:\n",
    "\n",
    "\n",
    "    try:\n",
    "        print building\n",
    "        e = ds.buildings[building].elec\n",
    "        out[building] = {}\n",
    "        out[building][\"total\"] = e.mains().total_energy()[\"active\"]\n",
    "        out[building][\"submetered\"] = 100*e.proportion_of_energy_submetered()\n",
    "        for appliance in ALL_APPLIANCES:\n",
    "            print appliance\n",
    "            m = e.select_using_appliances(type = appliance)\n",
    "            if len(m.meters)>0:\n",
    "                out[building][appliance] = m.total_energy()[\"active\"]\n",
    "            else:\n",
    "                out[building][appliance] = np.NAN\n",
    "    except Exception as e:\n",
    "        pass"
   ]
  },
  {
   "cell_type": "code",
   "execution_count": 174,
   "metadata": {
    "collapsed": false
   },
   "outputs": [],
   "source": [
    "df_total = pd.DataFrame(out).T"
   ]
  },
  {
   "cell_type": "code",
   "execution_count": 176,
   "metadata": {
    "collapsed": true
   },
   "outputs": [],
   "source": [
    "df_total = df_total[df_total>0]"
   ]
  },
  {
   "cell_type": "code",
   "execution_count": 177,
   "metadata": {
    "collapsed": false
   },
   "outputs": [
    {
     "data": {
      "text/plain": [
       "100"
      ]
     },
     "execution_count": 177,
     "metadata": {},
     "output_type": "execute_result"
    }
   ],
   "source": [
    "len(df_total)"
   ]
  },
  {
   "cell_type": "code",
   "execution_count": 102,
   "metadata": {
    "collapsed": false
   },
   "outputs": [],
   "source": [
    "df_total = df_total.drop('submetered', 1)"
   ]
  },
  {
   "cell_type": "code",
   "execution_count": 103,
   "metadata": {
    "collapsed": false
   },
   "outputs": [
    {
     "data": {
      "text/plain": [
       "100"
      ]
     },
     "execution_count": 103,
     "metadata": {},
     "output_type": "execute_result"
    }
   ],
   "source": [
    "len(df_total)"
   ]
  },
  {
   "cell_type": "code",
   "execution_count": 104,
   "metadata": {
    "collapsed": false
   },
   "outputs": [],
   "source": [
    "#df_total = df_total.dropna()"
   ]
  },
  {
   "cell_type": "code",
   "execution_count": 105,
   "metadata": {
    "collapsed": false
   },
   "outputs": [],
   "source": [
    "df_total = df_total[df_total[\"total\"]>0]\n",
    "df_total = df_total[df_total[\"Washing\"]>0]"
   ]
  },
  {
   "cell_type": "code",
   "execution_count": 106,
   "metadata": {
    "collapsed": false
   },
   "outputs": [],
   "source": [
    "df_total = df_total[df_total[\"HVAC\"]>0]\n",
    "df_total = df_total[df_total[\"Unmetered\"]>0]"
   ]
  },
  {
   "cell_type": "code",
   "execution_count": 108,
   "metadata": {
    "collapsed": false
   },
   "outputs": [],
   "source": [
    "df_total_percentage=100*df_total[[col for col in df_total.columns if col not in ['total']]]/df_total[['total']]"
   ]
  },
  {
   "cell_type": "code",
   "execution_count": 109,
   "metadata": {
    "collapsed": false
   },
   "outputs": [],
   "source": [
    "df_reduced=df_total[[col for col in df_total.columns if col not in ['total']]]"
   ]
  },
  {
   "cell_type": "code",
   "execution_count": 110,
   "metadata": {
    "collapsed": false
   },
   "outputs": [],
   "source": [
    "for col in df_reduced.columns:\n",
    "    df_reduced[col] = 100*df_reduced[col]/df_total['total']"
   ]
  },
  {
   "cell_type": "code",
   "execution_count": 111,
   "metadata": {
    "collapsed": false
   },
   "outputs": [
    {
     "data": {
      "text/html": [
       "<div style=\"max-height:1000px;max-width:1500px;overflow:auto;\">\n",
       "<table border=\"1\" class=\"dataframe\">\n",
       "  <thead>\n",
       "    <tr style=\"text-align: right;\">\n",
       "      <th></th>\n",
       "      <th>Electric vehicle</th>\n",
       "      <th>Fridge</th>\n",
       "      <th>HVAC</th>\n",
       "      <th>Kitchen</th>\n",
       "      <th>Lighting</th>\n",
       "      <th>Others</th>\n",
       "      <th>Sockets</th>\n",
       "      <th>Washing</th>\n",
       "      <th>Water heating</th>\n",
       "      <th>Unmetered</th>\n",
       "    </tr>\n",
       "  </thead>\n",
       "  <tbody>\n",
       "    <tr>\n",
       "      <th>1</th>\n",
       "      <td>NaN</td>\n",
       "      <td>NaN</td>\n",
       "      <td>0.026188</td>\n",
       "      <td>1.775346</td>\n",
       "      <td>NaN</td>\n",
       "      <td>NaN</td>\n",
       "      <td>NaN</td>\n",
       "      <td>2.445574</td>\n",
       "      <td>NaN</td>\n",
       "      <td>99.929510</td>\n",
       "    </tr>\n",
       "    <tr>\n",
       "      <th>3</th>\n",
       "      <td>NaN</td>\n",
       "      <td>5.016922</td>\n",
       "      <td>33.767455</td>\n",
       "      <td>3.259490</td>\n",
       "      <td>30.538475</td>\n",
       "      <td>0.023428</td>\n",
       "      <td>11.719942</td>\n",
       "      <td>4.116258</td>\n",
       "      <td>NaN</td>\n",
       "      <td>98.525967</td>\n",
       "    </tr>\n",
       "    <tr>\n",
       "      <th>7</th>\n",
       "      <td>NaN</td>\n",
       "      <td>2.629206</td>\n",
       "      <td>1.572423</td>\n",
       "      <td>0.556408</td>\n",
       "      <td>NaN</td>\n",
       "      <td>NaN</td>\n",
       "      <td>NaN</td>\n",
       "      <td>1.196294</td>\n",
       "      <td>NaN</td>\n",
       "      <td>99.900815</td>\n",
       "    </tr>\n",
       "    <tr>\n",
       "      <th>8</th>\n",
       "      <td>NaN</td>\n",
       "      <td>NaN</td>\n",
       "      <td>0.400722</td>\n",
       "      <td>NaN</td>\n",
       "      <td>NaN</td>\n",
       "      <td>NaN</td>\n",
       "      <td>NaN</td>\n",
       "      <td>18.211417</td>\n",
       "      <td>NaN</td>\n",
       "      <td>99.689798</td>\n",
       "    </tr>\n",
       "    <tr>\n",
       "      <th>9</th>\n",
       "      <td>NaN</td>\n",
       "      <td>NaN</td>\n",
       "      <td>71.444723</td>\n",
       "      <td>NaN</td>\n",
       "      <td>NaN</td>\n",
       "      <td>NaN</td>\n",
       "      <td>22.094554</td>\n",
       "      <td>4.014734</td>\n",
       "      <td>NaN</td>\n",
       "      <td>98.374100</td>\n",
       "    </tr>\n",
       "  </tbody>\n",
       "</table>\n",
       "</div>"
      ],
      "text/plain": [
       "   Electric vehicle    Fridge       HVAC   Kitchen   Lighting    Others  \\\n",
       "1               NaN       NaN   0.026188  1.775346        NaN       NaN   \n",
       "3               NaN  5.016922  33.767455  3.259490  30.538475  0.023428   \n",
       "7               NaN  2.629206   1.572423  0.556408        NaN       NaN   \n",
       "8               NaN       NaN   0.400722       NaN        NaN       NaN   \n",
       "9               NaN       NaN  71.444723       NaN        NaN       NaN   \n",
       "\n",
       "     Sockets    Washing  Water heating  Unmetered  \n",
       "1        NaN   2.445574            NaN  99.929510  \n",
       "3  11.719942   4.116258            NaN  98.525967  \n",
       "7        NaN   1.196294            NaN  99.900815  \n",
       "8        NaN  18.211417            NaN  99.689798  \n",
       "9  22.094554   4.014734            NaN  98.374100  "
      ]
     },
     "execution_count": 111,
     "metadata": {},
     "output_type": "execute_result"
    }
   ],
   "source": [
    "df_reduced.head()"
   ]
  },
  {
   "cell_type": "code",
   "execution_count": 189,
   "metadata": {
    "collapsed": false
   },
   "outputs": [],
   "source": [
    "dft = df_total.copy()\n",
    "dft = dft/dft.total\n",
    "dft = dft[[x for x in df_total.columns if x!=\"total\"]]"
   ]
  },
  {
   "cell_type": "code",
   "execution_count": 197,
   "metadata": {
    "collapsed": true
   },
   "outputs": [],
   "source": [
    "abc = df_total.copy()"
   ]
  },
  {
   "cell_type": "code",
   "execution_count": 198,
   "metadata": {
    "collapsed": false
   },
   "outputs": [],
   "source": [
    "for col in abc.columns:\n",
    "    abc[col] = abc[col]/abc['total']"
   ]
  },
  {
   "cell_type": "code",
   "execution_count": 200,
   "metadata": {
    "collapsed": false
   },
   "outputs": [
    {
     "data": {
      "text/html": [
       "<div style=\"max-height:1000px;max-width:1500px;overflow:auto;\">\n",
       "<table border=\"1\" class=\"dataframe\">\n",
       "  <thead>\n",
       "    <tr style=\"text-align: right;\">\n",
       "      <th></th>\n",
       "      <th>air conditioner</th>\n",
       "      <th>appliance</th>\n",
       "      <th>dish washer</th>\n",
       "      <th>electric furnace</th>\n",
       "      <th>electric hot tub heater</th>\n",
       "      <th>electric space heater</th>\n",
       "      <th>electric swimming pool heater</th>\n",
       "      <th>electric vehicle</th>\n",
       "      <th>electric water heating appliance</th>\n",
       "      <th>freezer</th>\n",
       "      <th>...</th>\n",
       "      <th>security alarm</th>\n",
       "      <th>sockets</th>\n",
       "      <th>spin dryer</th>\n",
       "      <th>stove</th>\n",
       "      <th>submetered</th>\n",
       "      <th>total</th>\n",
       "      <th>unknown</th>\n",
       "      <th>washer dryer</th>\n",
       "      <th>washing machine</th>\n",
       "      <th>waste disposal unit</th>\n",
       "    </tr>\n",
       "  </thead>\n",
       "  <tbody>\n",
       "    <tr>\n",
       "      <th>1</th>\n",
       "      <td>0.000262</td>\n",
       "      <td>NaN</td>\n",
       "      <td>NaN</td>\n",
       "      <td>NaN</td>\n",
       "      <td>NaN</td>\n",
       "      <td>NaN</td>\n",
       "      <td>NaN</td>\n",
       "      <td>NaN</td>\n",
       "      <td>NaN</td>\n",
       "      <td>NaN</td>\n",
       "      <td>...</td>\n",
       "      <td>NaN</td>\n",
       "      <td>NaN</td>\n",
       "      <td>0.024456</td>\n",
       "      <td>NaN</td>\n",
       "      <td>0.004806</td>\n",
       "      <td>1</td>\n",
       "      <td>NaN</td>\n",
       "      <td>NaN</td>\n",
       "      <td>NaN</td>\n",
       "      <td>NaN</td>\n",
       "    </tr>\n",
       "    <tr>\n",
       "      <th>2</th>\n",
       "      <td>NaN</td>\n",
       "      <td>NaN</td>\n",
       "      <td>NaN</td>\n",
       "      <td>NaN</td>\n",
       "      <td>NaN</td>\n",
       "      <td>NaN</td>\n",
       "      <td>NaN</td>\n",
       "      <td>NaN</td>\n",
       "      <td>NaN</td>\n",
       "      <td>NaN</td>\n",
       "      <td>...</td>\n",
       "      <td>NaN</td>\n",
       "      <td>NaN</td>\n",
       "      <td>NaN</td>\n",
       "      <td>NaN</td>\n",
       "      <td>NaN</td>\n",
       "      <td>NaN</td>\n",
       "      <td>NaN</td>\n",
       "      <td>NaN</td>\n",
       "      <td>NaN</td>\n",
       "      <td>NaN</td>\n",
       "    </tr>\n",
       "    <tr>\n",
       "      <th>3</th>\n",
       "      <td>0.142502</td>\n",
       "      <td>NaN</td>\n",
       "      <td>0.028147</td>\n",
       "      <td>0.195173</td>\n",
       "      <td>NaN</td>\n",
       "      <td>NaN</td>\n",
       "      <td>NaN</td>\n",
       "      <td>NaN</td>\n",
       "      <td>NaN</td>\n",
       "      <td>NaN</td>\n",
       "      <td>...</td>\n",
       "      <td>NaN</td>\n",
       "      <td>0.117199</td>\n",
       "      <td>0.039529</td>\n",
       "      <td>NaN</td>\n",
       "      <td>0.060138</td>\n",
       "      <td>1</td>\n",
       "      <td>NaN</td>\n",
       "      <td>NaN</td>\n",
       "      <td>2.402583</td>\n",
       "      <td>0.34455</td>\n",
       "    </tr>\n",
       "    <tr>\n",
       "      <th>4</th>\n",
       "      <td>NaN</td>\n",
       "      <td>NaN</td>\n",
       "      <td>NaN</td>\n",
       "      <td>NaN</td>\n",
       "      <td>NaN</td>\n",
       "      <td>NaN</td>\n",
       "      <td>NaN</td>\n",
       "      <td>NaN</td>\n",
       "      <td>NaN</td>\n",
       "      <td>NaN</td>\n",
       "      <td>...</td>\n",
       "      <td>NaN</td>\n",
       "      <td>NaN</td>\n",
       "      <td>NaN</td>\n",
       "      <td>NaN</td>\n",
       "      <td>NaN</td>\n",
       "      <td>1</td>\n",
       "      <td>NaN</td>\n",
       "      <td>NaN</td>\n",
       "      <td>NaN</td>\n",
       "      <td>NaN</td>\n",
       "    </tr>\n",
       "    <tr>\n",
       "      <th>5</th>\n",
       "      <td>NaN</td>\n",
       "      <td>NaN</td>\n",
       "      <td>NaN</td>\n",
       "      <td>NaN</td>\n",
       "      <td>NaN</td>\n",
       "      <td>NaN</td>\n",
       "      <td>NaN</td>\n",
       "      <td>NaN</td>\n",
       "      <td>NaN</td>\n",
       "      <td>NaN</td>\n",
       "      <td>...</td>\n",
       "      <td>NaN</td>\n",
       "      <td>NaN</td>\n",
       "      <td>NaN</td>\n",
       "      <td>NaN</td>\n",
       "      <td>NaN</td>\n",
       "      <td>NaN</td>\n",
       "      <td>NaN</td>\n",
       "      <td>NaN</td>\n",
       "      <td>NaN</td>\n",
       "      <td>NaN</td>\n",
       "    </tr>\n",
       "  </tbody>\n",
       "</table>\n",
       "<p>5 rows × 24 columns</p>\n",
       "</div>"
      ],
      "text/plain": [
       "   air conditioner  appliance  dish washer  electric furnace  \\\n",
       "1         0.000262        NaN          NaN               NaN   \n",
       "2              NaN        NaN          NaN               NaN   \n",
       "3         0.142502        NaN     0.028147          0.195173   \n",
       "4              NaN        NaN          NaN               NaN   \n",
       "5              NaN        NaN          NaN               NaN   \n",
       "\n",
       "   electric hot tub heater  electric space heater  \\\n",
       "1                      NaN                    NaN   \n",
       "2                      NaN                    NaN   \n",
       "3                      NaN                    NaN   \n",
       "4                      NaN                    NaN   \n",
       "5                      NaN                    NaN   \n",
       "\n",
       "   electric swimming pool heater  electric vehicle  \\\n",
       "1                            NaN               NaN   \n",
       "2                            NaN               NaN   \n",
       "3                            NaN               NaN   \n",
       "4                            NaN               NaN   \n",
       "5                            NaN               NaN   \n",
       "\n",
       "   electric water heating appliance  freezer         ...           \\\n",
       "1                               NaN      NaN         ...            \n",
       "2                               NaN      NaN         ...            \n",
       "3                               NaN      NaN         ...            \n",
       "4                               NaN      NaN         ...            \n",
       "5                               NaN      NaN         ...            \n",
       "\n",
       "   security alarm   sockets  spin dryer  stove  submetered  total  unknown  \\\n",
       "1             NaN       NaN    0.024456    NaN    0.004806      1      NaN   \n",
       "2             NaN       NaN         NaN    NaN         NaN    NaN      NaN   \n",
       "3             NaN  0.117199    0.039529    NaN    0.060138      1      NaN   \n",
       "4             NaN       NaN         NaN    NaN         NaN      1      NaN   \n",
       "5             NaN       NaN         NaN    NaN         NaN    NaN      NaN   \n",
       "\n",
       "   washer dryer  washing machine  waste disposal unit  \n",
       "1           NaN              NaN                  NaN  \n",
       "2           NaN              NaN                  NaN  \n",
       "3           NaN         2.402583              0.34455  \n",
       "4           NaN              NaN                  NaN  \n",
       "5           NaN              NaN                  NaN  \n",
       "\n",
       "[5 rows x 24 columns]"
      ]
     },
     "execution_count": 200,
     "metadata": {},
     "output_type": "execute_result"
    }
   ],
   "source": [
    "abc.head()"
   ]
  },
  {
   "cell_type": "code",
   "execution_count": 207,
   "metadata": {
    "collapsed": false
   },
   "outputs": [],
   "source": [
    "d = abc[[x for x in abc.columns if x not in [\"total\", \"submetered\"]]]"
   ]
  },
  {
   "cell_type": "code",
   "execution_count": 211,
   "metadata": {
    "collapsed": false
   },
   "outputs": [],
   "source": [
    "d = d[d<=1]"
   ]
  },
  {
   "cell_type": "code",
   "execution_count": 225,
   "metadata": {
    "collapsed": true
   },
   "outputs": [],
   "source": [
    "# %load common.py\n",
    "\"\"\"Contains helper functions\"\"\"\n",
    "import pandas as pd\n",
    "import numpy as np\n",
    "import requests\n",
    "from StringIO import StringIO\n",
    "import matplotlib as mpl\n",
    "import matplotlib.pyplot as plt\n",
    "\n",
    "\n",
    "uuid_path = \"http://energy.iiitd.edu.in:9102/backend/api\"\n",
    "data_path = \"http://energy.iiitd.edu.in:9102/backend/api/data/\"\n",
    "\n",
    "\n",
    "import matplotlib\n",
    "import matplotlib.pyplot as plt\n",
    "import matplotlib.dates as mdates\n",
    "import numpy as np\n",
    "from math import sqrt\n",
    "\n",
    "SPINE_COLOR = 'gray'\n",
    "\n",
    "_to_ordinalf_np_vectorized = np.vectorize(mdates._to_ordinalf)\n",
    "\n",
    "def plot_series(series, **kwargs):\n",
    "    \"\"\"Plot function for series which is about 5 times faster than\n",
    "    pd.Series.plot().\n",
    "\n",
    "    Parameters\n",
    "    ----------\n",
    "    series : pd.Series\n",
    "    ax : matplotlib Axes, optional\n",
    "        If not provided then will generate our own axes.\n",
    "    fig : matplotlib Figure\n",
    "    date_format : str, optional, default='%d/%m/%y %H:%M:%S'\n",
    "    tz_localize : boolean, optional, default is True\n",
    "        if False then display UTC times.\n",
    "\n",
    "    Can also use all **kwargs expected by `ax.plot`\n",
    "    \"\"\"\n",
    "    ax = kwargs.pop('ax', None)\n",
    "    fig = kwargs.pop('fig', None)\n",
    "    date_format = kwargs.pop('date_format', '%d/%m/%y %H:%M:%S')\n",
    "    tz_localize = kwargs.pop('tz_localize', True)\n",
    "\n",
    "    if ax is None:\n",
    "        ax = plt.gca()\n",
    "\n",
    "    if fig is None:\n",
    "        fig = plt.gcf()\n",
    "\n",
    "    x = _to_ordinalf_np_vectorized(series.index.to_pydatetime())\n",
    "    ax.plot(x, series, **kwargs)\n",
    "    tz = series.index.tzinfo if tz_localize else None\n",
    "    ax.xaxis.set_major_formatter(mdates.DateFormatter(date_format, \n",
    "                                                      tz=tz))\n",
    "    ax.set_ylabel('watts')\n",
    "    fig.autofmt_xdate()\n",
    "    return ax\n",
    "\n",
    "\n",
    "def latexify(fig_width=None, fig_height=None, columns=1):\n",
    "    \"\"\"Set up matplotlib's RC params for LaTeX plotting.\n",
    "    Call this before plotting a figure.\n",
    "\n",
    "    Parameters\n",
    "    ----------\n",
    "    fig_width : float, optional, inches\n",
    "    fig_height : float,  optional, inches\n",
    "    columns : {1, 2}\n",
    "    \"\"\"\n",
    "\n",
    "    # code adapted from http://www.scipy.org/Cookbook/Matplotlib/LaTeX_Examples\n",
    "\n",
    "    # Width and max height in inches for IEEE journals taken from\n",
    "    # computer.org/cms/Computer.org/Journal%20templates/transactions_art_guide.pdf\n",
    "\n",
    "    assert(columns in [1,2])\n",
    "\n",
    "    if fig_width is None:\n",
    "        fig_width = 3.39 if columns==1 else 6.9 # width in inches\n",
    "\n",
    "    if fig_height is None:\n",
    "        golden_mean = (sqrt(5)-1.0)/2.0    # Aesthetic ratio\n",
    "        fig_height = fig_width*golden_mean # height in inches\n",
    "\n",
    "    MAX_HEIGHT_INCHES = 8.0\n",
    "    if fig_height > MAX_HEIGHT_INCHES:\n",
    "        print(\"WARNING: fig_height too large:\" + fig_height + \n",
    "              \"so will reduce to\" + MAX_HEIGHT_INCHES + \"inches.\")\n",
    "        fig_height = MAX_HEIGHT_INCHES\n",
    "\n",
    "    params = {'backend': 'ps',\n",
    "              'text.latex.preamble': ['\\usepackage{gensymb}'],\n",
    "              'axes.labelsize': 6, # fontsize for x and y labels (was 10)\n",
    "              'axes.titlesize': 6,\n",
    "              'text.fontsize': 6, # was 10\n",
    "              'legend.fontsize': 6, # was 10\n",
    "              'xtick.labelsize': 6,\n",
    "              'ytick.labelsize': 6,\n",
    "              'text.usetex': True,\n",
    "              'figure.figsize': [fig_width,fig_height],\n",
    "              'font.family': 'serif'\n",
    "    }\n",
    "\n",
    "    matplotlib.rcParams.update(params)\n",
    "\n",
    "\n",
    "def format_axes(ax):\n",
    "\n",
    "    for spine in ['top', 'right']:\n",
    "        ax.spines[spine].set_visible(False)\n",
    "\n",
    "    for spine in ['left', 'bottom']:\n",
    "        ax.spines[spine].set_color(SPINE_COLOR)\n",
    "        ax.spines[spine].set_linewidth(0.5)\n",
    "\n",
    "    ax.xaxis.set_ticks_position('bottom')\n",
    "    ax.yaxis.set_ticks_position('left')\n",
    "\n",
    "    for axis in [ax.xaxis, ax.yaxis]:\n",
    "        axis.set_tick_params(direction='out', color=SPINE_COLOR)\n",
    "\n",
    "#    matplotlib.pyplot.tight_layout()\n",
    "\n",
    "    return ax\n",
    "\n",
    "\n",
    "def get_readings_csv(uuid, start_time, end_time):\n",
    "        \"\"\"Get readings from sMAP server for a `uuid` between \n",
    "        start_time and end_time\n",
    "\n",
    "        Parameters\n",
    "        ---------\n",
    "        uuid : string\n",
    "            Unique identifier for the sMAP channel\n",
    "        start_time : long int\n",
    "            Timestamp in milliseconds\n",
    "        end_time : long int\n",
    "            Timestamp in milliseconds\n",
    "\n",
    "        Returns\n",
    "        -------\n",
    "        smap_data : List of Lists\n",
    "            Contains data in sMAP format as follows: [[timestamp (ms), power]]\n",
    "        \"\"\"\n",
    "        query = \"{}uuid/{}?starttime={}&endtime={}&format=csv\".format(data_path,\n",
    "                                                           uuid, start_time, end_time)\n",
    "        response = requests.get(query)\n",
    "        return response\n",
    "\n",
    "\n",
    "def pd_to_epoch(pd_time):\n",
    "    temp = pd.DatetimeIndex([pd_time]).astype(np.int64) //10**6\n",
    "    return temp[0]\n",
    "\n",
    "def create_df(query, start_time, end_time, uuid=None):\n",
    "    start_time = pd_to_epoch(start_time)\n",
    "    end_time = pd_to_epoch(end_time)\n",
    "    if uuid is None:\n",
    "        uuid = find_uuid(query)\n",
    "    temp = get_readings_csv(uuid,start_time,end_time)\n",
    "    df = pd.read_csv(StringIO(temp.content), names=['timestamp','value'])\n",
    "    df.index = pd.to_datetime(df.timestamp, unit='ms')\n",
    "    df = df.drop('timestamp',1)\n",
    "    df = df.tz_localize(\"UTC\").tz_convert(\"Asia/Kolkata\")\n",
    "    return df  \n",
    "\n",
    "def find_uuid(query = None):\n",
    "    \"\"\"Returns the UUID corresponding to a home\"\"\"\n",
    "    response = requests.post(uuid_path, query)\n",
    "    \n",
    "    uuid = response.json()[0][\"uuid\"]\n",
    "    return uuid\n",
    "\n",
    "def heatmap(df,\n",
    "            edgecolors='w',\n",
    "            cmap=mpl.cm.RdYlBu_r,\n",
    "            log=False):    \n",
    "    width = len(df.columns)/4\n",
    "    height = len(df.index)/4\n",
    "    \n",
    "    fig, ax = plt.subplots(figsize=(width,height))\n",
    "      \n",
    "    heatmap = ax.pcolor(df,\n",
    "                        edgecolors=edgecolors,  # put white lines between squares in heatmap\n",
    "                        cmap=cmap,\n",
    "                        norm=mpl.colors.LogNorm() if log else None)\n",
    "    \n",
    "    ax.autoscale(tight=True)  # get rid of whitespace in margins of heatmap\n",
    "    ax.set_aspect('equal')  # ensure heatmap cells are square\n",
    "    ax.xaxis.set_ticks_position('top')  # put column labels at the top\n",
    "    ax.tick_params(bottom='off', top='off', left='off', right='off')  # turn off ticks\n",
    "    \n",
    "    plt.yticks(np.arange(len(df.index)) + 0.5, df.index)\n",
    "    plt.xticks(np.arange(len(df.columns)) + 0.5, df.columns, rotation=90)\n",
    "    \n",
    "    # ugliness from http://matplotlib.org/users/tight_layout_guide.html\n",
    "    from mpl_toolkits.axes_grid1 import make_axes_locatable\n",
    "    divider = make_axes_locatable(ax)\n",
    "    cax = divider.append_axes(\"right\", \"3%\", pad=\"1%\")\n",
    "    plt.colorbar(heatmap, cax=cax)"
   ]
  },
  {
   "cell_type": "code",
   "execution_count": 228,
   "metadata": {
    "collapsed": false
   },
   "outputs": [
    {
     "data": {
      "image/png": "[encoded data removed]",
      "text/plain": [
       "<matplotlib.figure.Figure at 0x10b4ca790>"
      ]
     },
     "metadata": {},
     "output_type": "display_data"
    }
   ],
   "source": [
    "latexify(columns=1, fig_height=3)\n",
    "\n",
    "ax = d.plot(kind='box', rot=90)\n",
    "plt.ylim((0, 1))\n",
    "plt.ylabel(\"Proportion of aggregate\")\n",
    "from common import format_axes\n",
    "format_axes(ax)\n",
    "plt.tight_layout()\n",
    "plt.grid(False)\n",
    "plt.savefig(\"/Users/nipunbatra/Dropbox/sharelatex/globalsip_smart_buildings_2015/figs/boxplot_category.pdf\")"
   ]
  },
  {
   "cell_type": "code",
   "execution_count": null,
   "metadata": {
    "collapsed": false
   },
   "outputs": [],
   "source": []
  }
 ],
 "metadata": {
  "kernelspec": {
   "display_name": "Python 2",
   "language": "python",
   "name": "python2"
  },
  "language_info": {
   "codemirror_mode": {
    "name": "ipython",
    "version": 2
   },
   "file_extension": ".py",
   "mimetype": "text/x-python",
   "name": "python",
   "nbconvert_exporter": "python",
   "pygments_lexer": "ipython2",
   "version": "2.7.9"
  }
 },
 "nbformat": 4,
 "nbformat_minor": 0
}
